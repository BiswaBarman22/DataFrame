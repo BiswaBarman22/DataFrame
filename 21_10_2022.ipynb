{
  "nbformat": 4,
  "nbformat_minor": 0,
  "metadata": {
    "colab": {
      "provenance": []
    },
    "kernelspec": {
      "name": "python3",
      "display_name": "Python 3"
    },
    "language_info": {
      "name": "python"
    }
  },
  "cells": [
    {
      "cell_type": "code",
      "execution_count": null,
      "metadata": {
        "id": "KF-U_F0L7vXn"
      },
      "outputs": [],
      "source": []
    },
    {
      "cell_type": "code",
      "source": [
        "l1=[1,2,3,\"Apple\",\"Orange\",\"Dog\",88.9999,9.003]"
      ],
      "metadata": {
        "id": "Jhk0qea6nw8X"
      },
      "execution_count": 1,
      "outputs": []
    },
    {
      "cell_type": "code",
      "source": [
        "l1.append(\"Apoorv\")"
      ],
      "metadata": {
        "id": "mmB1GIUwn88_"
      },
      "execution_count": 2,
      "outputs": []
    },
    {
      "cell_type": "code",
      "source": [
        "print(l1)"
      ],
      "metadata": {
        "colab": {
          "base_uri": "https://localhost:8080/"
        },
        "id": "-m7pzYFdoAo0",
        "outputId": "e8e0ca57-283e-4181-d020-6bbba94907a9"
      },
      "execution_count": 3,
      "outputs": [
        {
          "output_type": "stream",
          "name": "stdout",
          "text": [
            "[1, 2, 3, 'Apple', 'Orange', 'Dog', 88.9999, 9.003, 'Apoorv']\n"
          ]
        }
      ]
    },
    {
      "cell_type": "code",
      "source": [
        "l1.clear()\n"
      ],
      "metadata": {
        "id": "oXUFl36LoBuu"
      },
      "execution_count": 4,
      "outputs": []
    },
    {
      "cell_type": "code",
      "source": [
        "print(l1)"
      ],
      "metadata": {
        "colab": {
          "base_uri": "https://localhost:8080/"
        },
        "id": "WM_qOAKRoHCK",
        "outputId": "b3483885-287b-41bd-e510-0f253253fca3"
      },
      "execution_count": 5,
      "outputs": [
        {
          "output_type": "stream",
          "name": "stdout",
          "text": [
            "[]\n"
          ]
        }
      ]
    },
    {
      "cell_type": "code",
      "source": [
        "l2=[1,2,3,\"Apple\",\"Orange\",\"Dog\",88.9999,9.003]"
      ],
      "metadata": {
        "id": "iObrc6WWoLwY"
      },
      "execution_count": 6,
      "outputs": []
    },
    {
      "cell_type": "code",
      "source": [
        "l3=l2.copy()"
      ],
      "metadata": {
        "id": "sLVX8EUVoQqI"
      },
      "execution_count": 7,
      "outputs": []
    },
    {
      "cell_type": "code",
      "source": [
        "print(l3)"
      ],
      "metadata": {
        "colab": {
          "base_uri": "https://localhost:8080/"
        },
        "id": "Ht8W83zcoWQ2",
        "outputId": "072fdd81-df21-4c77-ace9-c2cbcb27a945"
      },
      "execution_count": 8,
      "outputs": [
        {
          "output_type": "stream",
          "name": "stdout",
          "text": [
            "[1, 2, 3, 'Apple', 'Orange', 'Dog', 88.9999, 9.003]\n"
          ]
        }
      ]
    },
    {
      "cell_type": "code",
      "source": [
        "l2.extend([1,2,3,3,3,\"Apple\"])"
      ],
      "metadata": {
        "id": "KKlfkNHCoX6w"
      },
      "execution_count": 9,
      "outputs": []
    },
    {
      "cell_type": "code",
      "source": [
        "print(l2)"
      ],
      "metadata": {
        "colab": {
          "base_uri": "https://localhost:8080/"
        },
        "id": "_UmsL8gToa4w",
        "outputId": "1ebc20de-7715-4b7d-e0e5-cf8474dbab6d"
      },
      "execution_count": 10,
      "outputs": [
        {
          "output_type": "stream",
          "name": "stdout",
          "text": [
            "[1, 2, 3, 'Apple', 'Orange', 'Dog', 88.9999, 9.003, 1, 2, 3, 3, 3, 'Apple']\n"
          ]
        }
      ]
    },
    {
      "cell_type": "code",
      "source": [
        "l2.count(3)"
      ],
      "metadata": {
        "colab": {
          "base_uri": "https://localhost:8080/"
        },
        "id": "Cos4B-O1osYi",
        "outputId": "b90036de-af4b-43b9-e31a-444a4d1fbf64"
      },
      "execution_count": 11,
      "outputs": [
        {
          "output_type": "execute_result",
          "data": {
            "text/plain": [
              "4"
            ]
          },
          "metadata": {},
          "execution_count": 11
        }
      ]
    },
    {
      "cell_type": "code",
      "source": [
        "l2.count(\"Apple\")"
      ],
      "metadata": {
        "colab": {
          "base_uri": "https://localhost:8080/"
        },
        "id": "ce4Zv-X8ovEo",
        "outputId": "1ec7be6d-d055-4abf-e98b-9f60802dccba"
      },
      "execution_count": 12,
      "outputs": [
        {
          "output_type": "execute_result",
          "data": {
            "text/plain": [
              "2"
            ]
          },
          "metadata": {},
          "execution_count": 12
        }
      ]
    },
    {
      "cell_type": "code",
      "source": [
        "l2.insert(2,\"Apoorv\")"
      ],
      "metadata": {
        "id": "wyd12YL2oxIC"
      },
      "execution_count": 13,
      "outputs": []
    },
    {
      "cell_type": "code",
      "source": [
        "print(l2)"
      ],
      "metadata": {
        "colab": {
          "base_uri": "https://localhost:8080/"
        },
        "id": "fyJVSwYWpqHb",
        "outputId": "e6e18799-476e-4cd6-d705-6a8a58df6c84"
      },
      "execution_count": 14,
      "outputs": [
        {
          "output_type": "stream",
          "name": "stdout",
          "text": [
            "[1, 2, 'Apoorv', 3, 'Apple', 'Orange', 'Dog', 88.9999, 9.003, 1, 2, 3, 3, 3, 'Apple']\n"
          ]
        }
      ]
    },
    {
      "cell_type": "code",
      "source": [
        "l2.index(\"Apple\")"
      ],
      "metadata": {
        "colab": {
          "base_uri": "https://localhost:8080/"
        },
        "id": "TuI4RqPGpr22",
        "outputId": "89ccd777-c053-4607-fd85-bb49605fb8d0"
      },
      "execution_count": 15,
      "outputs": [
        {
          "output_type": "execute_result",
          "data": {
            "text/plain": [
              "4"
            ]
          },
          "metadata": {},
          "execution_count": 15
        }
      ]
    },
    {
      "cell_type": "code",
      "source": [
        "l2.pop()"
      ],
      "metadata": {
        "colab": {
          "base_uri": "https://localhost:8080/",
          "height": 35
        },
        "id": "gshlSeNLp19z",
        "outputId": "2ca25428-9d7d-46ac-9137-7a610567c965"
      },
      "execution_count": 16,
      "outputs": [
        {
          "output_type": "execute_result",
          "data": {
            "text/plain": [
              "'Apple'"
            ],
            "application/vnd.google.colaboratory.intrinsic+json": {
              "type": "string"
            }
          },
          "metadata": {},
          "execution_count": 16
        }
      ]
    },
    {
      "cell_type": "code",
      "source": [
        "l2.remove(3)"
      ],
      "metadata": {
        "id": "rbkVx8o-p4mn"
      },
      "execution_count": 17,
      "outputs": []
    },
    {
      "cell_type": "code",
      "source": [
        "print(l2)"
      ],
      "metadata": {
        "colab": {
          "base_uri": "https://localhost:8080/"
        },
        "id": "gjSfTsaFqia8",
        "outputId": "1e144843-65fb-4911-b912-d737cde4d4ac"
      },
      "execution_count": 18,
      "outputs": [
        {
          "output_type": "stream",
          "name": "stdout",
          "text": [
            "[1, 2, 'Apoorv', 'Apple', 'Orange', 'Dog', 88.9999, 9.003, 1, 2, 3, 3, 3]\n"
          ]
        }
      ]
    },
    {
      "cell_type": "code",
      "source": [
        "l2.reverse()"
      ],
      "metadata": {
        "id": "SmWhcJz1qkSn"
      },
      "execution_count": 19,
      "outputs": []
    },
    {
      "cell_type": "code",
      "source": [
        "print(l2)"
      ],
      "metadata": {
        "colab": {
          "base_uri": "https://localhost:8080/"
        },
        "id": "8JIjls5nqqnK",
        "outputId": "01fd3c77-acd7-40a6-b6db-7154d4ef9972"
      },
      "execution_count": 20,
      "outputs": [
        {
          "output_type": "stream",
          "name": "stdout",
          "text": [
            "[3, 3, 3, 2, 1, 9.003, 88.9999, 'Dog', 'Orange', 'Apple', 'Apoorv', 2, 1]\n"
          ]
        }
      ]
    },
    {
      "cell_type": "code",
      "source": [
        "l_num=[44,8,21,44,9.33]"
      ],
      "metadata": {
        "id": "_A8s6MLhqvBl"
      },
      "execution_count": 21,
      "outputs": []
    },
    {
      "cell_type": "code",
      "source": [
        "l_num.sort()"
      ],
      "metadata": {
        "id": "IbLnwEJrq0Gy"
      },
      "execution_count": 22,
      "outputs": []
    },
    {
      "cell_type": "code",
      "source": [
        "print(l_num)"
      ],
      "metadata": {
        "colab": {
          "base_uri": "https://localhost:8080/"
        },
        "id": "dFCPCkZkrMMR",
        "outputId": "64c332a5-71e3-44b1-bd05-eb6f265ae528"
      },
      "execution_count": 23,
      "outputs": [
        {
          "output_type": "stream",
          "name": "stdout",
          "text": [
            "[8, 9.33, 21, 44, 44]\n"
          ]
        }
      ]
    },
    {
      "cell_type": "code",
      "source": [
        "str1=\"hello how are you Apoorv\""
      ],
      "metadata": {
        "id": "1wUG1pnerVPG"
      },
      "execution_count": 24,
      "outputs": []
    },
    {
      "cell_type": "code",
      "source": [
        "str1=str1.capitalize()\n",
        "print(str1)"
      ],
      "metadata": {
        "colab": {
          "base_uri": "https://localhost:8080/"
        },
        "id": "8Kq6FVB8reAt",
        "outputId": "ca563fc9-e0bc-44ba-9c73-02636d45e571"
      },
      "execution_count": 25,
      "outputs": [
        {
          "output_type": "stream",
          "name": "stdout",
          "text": [
            "Hello how are you apoorv\n"
          ]
        }
      ]
    },
    {
      "cell_type": "code",
      "source": [
        "str1=str1.casefold()\n",
        "print(str1)"
      ],
      "metadata": {
        "colab": {
          "base_uri": "https://localhost:8080/"
        },
        "id": "J0nIPcd3rkHr",
        "outputId": "6c42f7ff-c555-428e-d37a-a98b311d5817"
      },
      "execution_count": 26,
      "outputs": [
        {
          "output_type": "stream",
          "name": "stdout",
          "text": [
            "hello how are you apoorv\n"
          ]
        }
      ]
    },
    {
      "cell_type": "code",
      "source": [
        "str2=str1.center(100)\n",
        "print(str2)"
      ],
      "metadata": {
        "colab": {
          "base_uri": "https://localhost:8080/"
        },
        "id": "satMBO1GrwW6",
        "outputId": "315500b7-bb05-46bb-ca81-ce90f9974838"
      },
      "execution_count": 27,
      "outputs": [
        {
          "output_type": "stream",
          "name": "stdout",
          "text": [
            "                                      hello how are you apoorv                                      \n"
          ]
        }
      ]
    },
    {
      "cell_type": "code",
      "source": [
        "str2=str1.count('o')\n",
        "print(str2)"
      ],
      "metadata": {
        "colab": {
          "base_uri": "https://localhost:8080/"
        },
        "id": "dzccmkLIr1N4",
        "outputId": "db1ceffc-be8b-4432-fb15-59992cf4ca6a"
      },
      "execution_count": 28,
      "outputs": [
        {
          "output_type": "stream",
          "name": "stdout",
          "text": [
            "5\n"
          ]
        }
      ]
    },
    {
      "cell_type": "code",
      "source": [
        "#Ë into default encoding.  \n",
        "# Python encode() function example  \n",
        "# Variable declaration  \n",
        "str = \"HËLLO\"  \n",
        "encode = str.encode()  \n",
        "# Displaying result  \n",
        "print(\"Old value\", str)  \n",
        "print(\"Encoded value\", encode) "
      ],
      "metadata": {
        "colab": {
          "base_uri": "https://localhost:8080/"
        },
        "id": "auNC2is8s6GH",
        "outputId": "7fe3488c-f8bf-4fcd-ebad-11a8a75df9f3"
      },
      "execution_count": 29,
      "outputs": [
        {
          "output_type": "stream",
          "name": "stdout",
          "text": [
            "Old value HËLLO\n",
            "Encoded value b'H\\xc3\\x8bLLO'\n"
          ]
        }
      ]
    },
    {
      "cell_type": "code",
      "source": [
        "str2=str1.endswith('o')\n",
        "print(str2)"
      ],
      "metadata": {
        "colab": {
          "base_uri": "https://localhost:8080/"
        },
        "id": "1UkRW0d7tIl2",
        "outputId": "01c7c06e-0dd6-4e43-ffef-9d3e1bcba555"
      },
      "execution_count": 30,
      "outputs": [
        {
          "output_type": "stream",
          "name": "stdout",
          "text": [
            "False\n"
          ]
        }
      ]
    },
    {
      "cell_type": "code",
      "source": [
        "str2=str1.endswith('v')\n",
        "print(str2)"
      ],
      "metadata": {
        "colab": {
          "base_uri": "https://localhost:8080/"
        },
        "id": "0Zcc0pU4tQa6",
        "outputId": "cfa37618-430a-4aa2-db6a-8eeaa5a9c47e"
      },
      "execution_count": 31,
      "outputs": [
        {
          "output_type": "stream",
          "name": "stdout",
          "text": [
            "True\n"
          ]
        }
      ]
    },
    {
      "cell_type": "code",
      "source": [
        "str2=str1.expandtabs()\n",
        "print(str2)"
      ],
      "metadata": {
        "colab": {
          "base_uri": "https://localhost:8080/"
        },
        "id": "dhRuJg2rtVcG",
        "outputId": "b97e4641-c5d9-4db3-fb6d-91304add0fd2"
      },
      "execution_count": 32,
      "outputs": [
        {
          "output_type": "stream",
          "name": "stdout",
          "text": [
            "hello how are you apoorv\n"
          ]
        }
      ]
    },
    {
      "cell_type": "code",
      "source": [
        "len(str1)"
      ],
      "metadata": {
        "colab": {
          "base_uri": "https://localhost:8080/"
        },
        "id": "LD7oCMgOtfXb",
        "outputId": "5a0223b1-9bf8-42ac-e15f-2b4448a7585b"
      },
      "execution_count": 33,
      "outputs": [
        {
          "output_type": "execute_result",
          "data": {
            "text/plain": [
              "24"
            ]
          },
          "metadata": {},
          "execution_count": 33
        }
      ]
    },
    {
      "cell_type": "code",
      "source": [
        "len(str2)"
      ],
      "metadata": {
        "colab": {
          "base_uri": "https://localhost:8080/"
        },
        "id": "ExxHymaztiXe",
        "outputId": "d95ce4a9-2c9a-4fef-8c8d-235647240c4e"
      },
      "execution_count": 34,
      "outputs": [
        {
          "output_type": "execute_result",
          "data": {
            "text/plain": [
              "24"
            ]
          },
          "metadata": {},
          "execution_count": 34
        }
      ]
    },
    {
      "cell_type": "code",
      "source": [
        "str2=str1.find(\"how\")\n",
        "print(str2)"
      ],
      "metadata": {
        "colab": {
          "base_uri": "https://localhost:8080/"
        },
        "id": "PrkThcQYtkI9",
        "outputId": "1573bd1d-ca18-468f-b0e4-c4003c558642"
      },
      "execution_count": 35,
      "outputs": [
        {
          "output_type": "stream",
          "name": "stdout",
          "text": [
            "6\n"
          ]
        }
      ]
    },
    {
      "cell_type": "code",
      "source": [
        "str2=str1.format()\n",
        "print(str2)"
      ],
      "metadata": {
        "colab": {
          "base_uri": "https://localhost:8080/"
        },
        "id": "lJKwykt0trKA",
        "outputId": "83f43423-fee5-462d-b088-bb13f4cb7a21"
      },
      "execution_count": 36,
      "outputs": [
        {
          "output_type": "stream",
          "name": "stdout",
          "text": [
            "hello how are you apoorv\n"
          ]
        }
      ]
    },
    {
      "cell_type": "code",
      "source": [
        "str2=str1.index(\"are\")\n",
        "print(str2)"
      ],
      "metadata": {
        "colab": {
          "base_uri": "https://localhost:8080/"
        },
        "id": "VlfpFqact0-F",
        "outputId": "8f97b715-1b51-4a7d-c190-34cf8d7215a4"
      },
      "execution_count": 37,
      "outputs": [
        {
          "output_type": "stream",
          "name": "stdout",
          "text": [
            "10\n"
          ]
        }
      ]
    },
    {
      "cell_type": "code",
      "source": [
        "str2=str1.isalnum()\n",
        "print(str2)"
      ],
      "metadata": {
        "colab": {
          "base_uri": "https://localhost:8080/"
        },
        "id": "3uyWZV9XuBc9",
        "outputId": "104fd1b5-ff81-4942-d550-cc62729961bf"
      },
      "execution_count": 38,
      "outputs": [
        {
          "output_type": "stream",
          "name": "stdout",
          "text": [
            "False\n"
          ]
        }
      ]
    },
    {
      "cell_type": "code",
      "source": [
        "str2=str1.isalpha()\n",
        "print(str2)"
      ],
      "metadata": {
        "colab": {
          "base_uri": "https://localhost:8080/"
        },
        "id": "QmDiFrEEuGAZ",
        "outputId": "6cf7b401-05ae-417b-9841-5198e364d27c"
      },
      "execution_count": 39,
      "outputs": [
        {
          "output_type": "stream",
          "name": "stdout",
          "text": [
            "False\n"
          ]
        }
      ]
    },
    {
      "cell_type": "code",
      "source": [
        "str2=str1.isdecimal()\n",
        "print(str2)"
      ],
      "metadata": {
        "colab": {
          "base_uri": "https://localhost:8080/"
        },
        "id": "V3vrobrpuJIx",
        "outputId": "fec8f190-9f11-4d87-9924-37e8c92848e2"
      },
      "execution_count": 40,
      "outputs": [
        {
          "output_type": "stream",
          "name": "stdout",
          "text": [
            "False\n"
          ]
        }
      ]
    },
    {
      "cell_type": "code",
      "source": [
        "str3=\"99.8\"\n",
        "str2=str3.isdigit()\n",
        "print(str2)"
      ],
      "metadata": {
        "colab": {
          "base_uri": "https://localhost:8080/"
        },
        "id": "cvDXm2IHuLjK",
        "outputId": "3dd993f2-554a-4ad1-ea0e-fccd2ece7be7"
      },
      "execution_count": 41,
      "outputs": [
        {
          "output_type": "stream",
          "name": "stdout",
          "text": [
            "False\n"
          ]
        }
      ]
    },
    {
      "cell_type": "code",
      "source": [],
      "metadata": {
        "colab": {
          "base_uri": "https://localhost:8080/",
          "height": 201
        },
        "id": "_P07QTt4uSHF",
        "outputId": "29ee721a-805c-4d7d-ecc3-ed099c2fa7ec"
      },
      "execution_count": 42,
      "outputs": [
        {
          "output_type": "error",
          "ename": "AttributeError",
          "evalue": "ignored",
          "traceback": [
            "\u001b[0;31m---------------------------------------------------------------------------\u001b[0m",
            "\u001b[0;31mAttributeError\u001b[0m                            Traceback (most recent call last)",
            "\u001b[0;32m<ipython-input-42-fdf39c241151>\u001b[0m in \u001b[0;36m<module>\u001b[0;34m\u001b[0m\n\u001b[1;32m      1\u001b[0m \u001b[0mstr3\u001b[0m\u001b[0;34m=\u001b[0m\u001b[0;36m99\u001b[0m\u001b[0;34m\u001b[0m\u001b[0;34m\u001b[0m\u001b[0m\n\u001b[0;32m----> 2\u001b[0;31m \u001b[0mstr2\u001b[0m\u001b[0;34m=\u001b[0m\u001b[0mstr3\u001b[0m\u001b[0;34m.\u001b[0m\u001b[0misdigit\u001b[0m\u001b[0;34m(\u001b[0m\u001b[0;34m)\u001b[0m\u001b[0;34m\u001b[0m\u001b[0;34m\u001b[0m\u001b[0m\n\u001b[0m\u001b[1;32m      3\u001b[0m \u001b[0mprint\u001b[0m\u001b[0;34m(\u001b[0m\u001b[0mstr2\u001b[0m\u001b[0;34m)\u001b[0m\u001b[0;34m\u001b[0m\u001b[0;34m\u001b[0m\u001b[0m\n",
            "\u001b[0;31mAttributeError\u001b[0m: 'int' object has no attribute 'isdigit'"
          ]
        }
      ]
    },
    {
      "cell_type": "code",
      "source": [
        "stu1={'Maths':80,\"Science\":75,\"English\":55}"
      ],
      "metadata": {
        "id": "og1jS-4MuU4W"
      },
      "execution_count": 43,
      "outputs": []
    },
    {
      "cell_type": "code",
      "source": [
        "stu2=stu1.copy()\n",
        "print(stu2)"
      ],
      "metadata": {
        "colab": {
          "base_uri": "https://localhost:8080/"
        },
        "id": "B-kC_AfKv00W",
        "outputId": "25407d00-29fb-4e6a-89f3-ba9fa56115cb"
      },
      "execution_count": 44,
      "outputs": [
        {
          "output_type": "stream",
          "name": "stdout",
          "text": [
            "{'Maths': 80, 'Science': 75, 'English': 55}\n"
          ]
        }
      ]
    },
    {
      "cell_type": "code",
      "source": [
        "stu1.clear()"
      ],
      "metadata": {
        "id": "aPCGn4Opw5ij"
      },
      "execution_count": 45,
      "outputs": []
    },
    {
      "cell_type": "code",
      "source": [
        "stu1"
      ],
      "metadata": {
        "colab": {
          "base_uri": "https://localhost:8080/"
        },
        "id": "Zie4L1KoxJ70",
        "outputId": "c590659f-cced-49ef-b92c-37afb0bfab60"
      },
      "execution_count": 46,
      "outputs": [
        {
          "output_type": "execute_result",
          "data": {
            "text/plain": [
              "{}"
            ]
          },
          "metadata": {},
          "execution_count": 46
        }
      ]
    },
    {
      "cell_type": "code",
      "source": [
        "stu2.keys()"
      ],
      "metadata": {
        "colab": {
          "base_uri": "https://localhost:8080/"
        },
        "id": "ShULXkixxQhs",
        "outputId": "27cef45b-2620-4109-ff73-c2f5c48fb487"
      },
      "execution_count": 47,
      "outputs": [
        {
          "output_type": "execute_result",
          "data": {
            "text/plain": [
              "dict_keys(['Maths', 'Science', 'English'])"
            ]
          },
          "metadata": {},
          "execution_count": 47
        }
      ]
    },
    {
      "cell_type": "code",
      "source": [
        "stu2.get('Maths')"
      ],
      "metadata": {
        "colab": {
          "base_uri": "https://localhost:8080/"
        },
        "id": "QS2JNkVixZ-u",
        "outputId": "865d4779-079b-4cbc-8f5e-351ed575c23d"
      },
      "execution_count": 48,
      "outputs": [
        {
          "output_type": "execute_result",
          "data": {
            "text/plain": [
              "80"
            ]
          },
          "metadata": {},
          "execution_count": 48
        }
      ]
    },
    {
      "cell_type": "code",
      "source": [
        "len(stu2)"
      ],
      "metadata": {
        "colab": {
          "base_uri": "https://localhost:8080/"
        },
        "id": "qMjc90_CxlH1",
        "outputId": "2519ab80-abd6-4250-8b1e-952b0cd0ace6"
      },
      "execution_count": 49,
      "outputs": [
        {
          "output_type": "execute_result",
          "data": {
            "text/plain": [
              "3"
            ]
          },
          "metadata": {},
          "execution_count": 49
        }
      ]
    },
    {
      "cell_type": "code",
      "source": [
        "stu2.pop(\"Maths\")"
      ],
      "metadata": {
        "colab": {
          "base_uri": "https://localhost:8080/"
        },
        "id": "wxQNdSeVxnrM",
        "outputId": "cef82612-4220-4a9e-d574-a60d74c88c41"
      },
      "execution_count": 50,
      "outputs": [
        {
          "output_type": "execute_result",
          "data": {
            "text/plain": [
              "80"
            ]
          },
          "metadata": {},
          "execution_count": 50
        }
      ]
    },
    {
      "cell_type": "code",
      "source": [
        "print(stu2)"
      ],
      "metadata": {
        "colab": {
          "base_uri": "https://localhost:8080/"
        },
        "id": "d1gGC0vmxtOG",
        "outputId": "65e3ec2d-f9cb-44ac-90b5-84b8fc81c58c"
      },
      "execution_count": 51,
      "outputs": [
        {
          "output_type": "stream",
          "name": "stdout",
          "text": [
            "{'Science': 75, 'English': 55}\n"
          ]
        }
      ]
    },
    {
      "cell_type": "code",
      "source": [],
      "metadata": {
        "id": "-DcQReoPx3SD"
      },
      "execution_count": 51,
      "outputs": []
    },
    {
      "cell_type": "code",
      "source": [
        "dict = {\n",
        "  \"brand\": \"Ford\",\n",
        "  \"electric\": False,\n",
        "  \"year\": 1964,\n",
        "  \"colors\": [\"red\", \"white\", \"blue\"]\n",
        "}\n",
        "print(dict)"
      ],
      "metadata": {
        "colab": {
          "base_uri": "https://localhost:8080/"
        },
        "id": "WoGOViZnaTp_",
        "outputId": "bd2de315-7342-4817-b4ef-06eadec0d641"
      },
      "execution_count": 52,
      "outputs": [
        {
          "output_type": "stream",
          "name": "stdout",
          "text": [
            "{'brand': 'Ford', 'electric': False, 'year': 1964, 'colors': ['red', 'white', 'blue']}\n"
          ]
        }
      ]
    },
    {
      "cell_type": "code",
      "source": [
        "dict1=dict.copy()\n",
        "print(dict1)"
      ],
      "metadata": {
        "colab": {
          "base_uri": "https://localhost:8080/"
        },
        "id": "aGSr3orJaTzn",
        "outputId": "69501ceb-4505-499e-a288-73f791e54d48"
      },
      "execution_count": 53,
      "outputs": [
        {
          "output_type": "stream",
          "name": "stdout",
          "text": [
            "{'brand': 'Ford', 'electric': False, 'year': 1964, 'colors': ['red', 'white', 'blue']}\n"
          ]
        }
      ]
    },
    {
      "cell_type": "code",
      "source": [
        "dict.clear()\n",
        "print(dict)"
      ],
      "metadata": {
        "colab": {
          "base_uri": "https://localhost:8080/"
        },
        "id": "MewDzKcjaTwf",
        "outputId": "471c5c6b-6f17-4ef0-958b-d1cd39324093"
      },
      "execution_count": 54,
      "outputs": [
        {
          "output_type": "stream",
          "name": "stdout",
          "text": [
            "{}\n"
          ]
        }
      ]
    },
    {
      "cell_type": "code",
      "source": [
        "d = dict1.fromkeys( ['Mercedes', 'Jaguar'],'brand')\n",
        "print(d)"
      ],
      "metadata": {
        "colab": {
          "base_uri": "https://localhost:8080/"
        },
        "id": "SY9GZ5E2aT2u",
        "outputId": "152ca4c6-32b3-42f2-f6ff-714c396bd955"
      },
      "execution_count": 55,
      "outputs": [
        {
          "output_type": "stream",
          "name": "stdout",
          "text": [
            "{'Mercedes': 'brand', 'Jaguar': 'brand'}\n"
          ]
        }
      ]
    },
    {
      "cell_type": "code",
      "source": [
        "\n",
        "d = dict1.get(\"brand\")\n",
        "print(d)"
      ],
      "metadata": {
        "colab": {
          "base_uri": "https://localhost:8080/"
        },
        "id": "OMlDXvQwaT5f",
        "outputId": "193372e7-6231-401a-c0ab-7c3ee41e05d9"
      },
      "execution_count": 56,
      "outputs": [
        {
          "output_type": "stream",
          "name": "stdout",
          "text": [
            "Ford\n"
          ]
        }
      ]
    },
    {
      "cell_type": "code",
      "source": [
        "print(dict1)\n",
        "print(len(dict1))"
      ],
      "metadata": {
        "id": "943nt7izaT8n",
        "colab": {
          "base_uri": "https://localhost:8080/"
        },
        "outputId": "bc7f40c9-0f76-439f-f234-85ddf84b1328"
      },
      "execution_count": 57,
      "outputs": [
        {
          "output_type": "stream",
          "name": "stdout",
          "text": [
            "{'brand': 'Ford', 'electric': False, 'year': 1964, 'colors': ['red', 'white', 'blue']}\n",
            "4\n"
          ]
        }
      ]
    },
    {
      "cell_type": "code",
      "source": [
        "a = dict1.items()\n",
        "print(a)"
      ],
      "metadata": {
        "id": "ZhdMJO6xaT_L",
        "colab": {
          "base_uri": "https://localhost:8080/"
        },
        "outputId": "7aa47515-8768-4308-edbc-68dfa6ecc7a5"
      },
      "execution_count": 58,
      "outputs": [
        {
          "output_type": "stream",
          "name": "stdout",
          "text": [
            "dict_items([('brand', 'Ford'), ('electric', False), ('year', 1964), ('colors', ['red', 'white', 'blue'])])\n"
          ]
        }
      ]
    },
    {
      "cell_type": "code",
      "source": [
        "dict1.popitem()\n",
        "print(dict1)"
      ],
      "metadata": {
        "colab": {
          "base_uri": "https://localhost:8080/"
        },
        "id": "wCk-I_kUudpK",
        "outputId": "87ad1258-b53c-4a03-95ee-79cdda386b42"
      },
      "execution_count": 59,
      "outputs": [
        {
          "output_type": "stream",
          "name": "stdout",
          "text": [
            "{'brand': 'Ford', 'electric': False, 'year': 1964}\n"
          ]
        }
      ]
    },
    {
      "cell_type": "code",
      "source": [
        "b = dict1.keys()\n",
        "print(b)"
      ],
      "metadata": {
        "colab": {
          "base_uri": "https://localhost:8080/"
        },
        "id": "JTRVfi3buhqP",
        "outputId": "6de12919-497b-4fe2-c4f5-c2879b99b680"
      },
      "execution_count": 60,
      "outputs": [
        {
          "output_type": "stream",
          "name": "stdout",
          "text": [
            "dict_keys(['brand', 'electric', 'year'])\n"
          ]
        }
      ]
    },
    {
      "cell_type": "code",
      "source": [
        "dict1.pop(\"electric\")\n",
        "print(dict1)"
      ],
      "metadata": {
        "colab": {
          "base_uri": "https://localhost:8080/"
        },
        "id": "yHNnpfDRuluG",
        "outputId": "3433cc29-66cc-4b6c-e2da-1c83768aed1b"
      },
      "execution_count": 61,
      "outputs": [
        {
          "output_type": "stream",
          "name": "stdout",
          "text": [
            "{'brand': 'Ford', 'year': 1964}\n"
          ]
        }
      ]
    },
    {
      "cell_type": "code",
      "source": [
        "d1 = dict1.setdefault(\"brand\",\"mercedes\")\n",
        "print(d1)"
      ],
      "metadata": {
        "colab": {
          "base_uri": "https://localhost:8080/"
        },
        "id": "nYDcXW2AuwBD",
        "outputId": "32bd9e7d-c0ce-46bd-8c26-a0f507bd8afd"
      },
      "execution_count": 62,
      "outputs": [
        {
          "output_type": "stream",
          "name": "stdout",
          "text": [
            "Ford\n"
          ]
        }
      ]
    },
    {
      "cell_type": "code",
      "source": [
        "dict = {\n",
        "  \"brand\": \"Ford\",\n",
        "  \"electric\": False,\n",
        "  \"year\": 1964,\n",
        "  \"colors\": [\"red\", \"white\", \"blue\"]\n",
        "}\n",
        "dict.update({\"year\": 2078})\n",
        "print(dict)"
      ],
      "metadata": {
        "colab": {
          "base_uri": "https://localhost:8080/"
        },
        "id": "_OVq7r-hwCZP",
        "outputId": "76cdd38b-2c14-44e2-f77f-12505b68c445"
      },
      "execution_count": 63,
      "outputs": [
        {
          "output_type": "stream",
          "name": "stdout",
          "text": [
            "{'brand': 'Ford', 'electric': False, 'year': 2078, 'colors': ['red', 'white', 'blue']}\n"
          ]
        }
      ]
    },
    {
      "cell_type": "code",
      "source": [
        "d = dict.values()\n",
        "print(d)"
      ],
      "metadata": {
        "colab": {
          "base_uri": "https://localhost:8080/"
        },
        "id": "BuIF7cxfwdpS",
        "outputId": "5c4e2f51-38cb-4f2b-d53c-ca996d8bc85c"
      },
      "execution_count": 64,
      "outputs": [
        {
          "output_type": "stream",
          "name": "stdout",
          "text": [
            "dict_values(['Ford', False, 2078, ['red', 'white', 'blue']])\n"
          ]
        }
      ]
    },
    {
      "cell_type": "code",
      "source": [],
      "metadata": {
        "id": "kuzNBbDV9_Oa"
      },
      "execution_count": 64,
      "outputs": []
    }
  ]
}